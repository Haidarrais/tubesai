{
 "cells": [
  {
   "cell_type": "code",
   "execution_count": 1,
   "metadata": {
    "colab": {
     "base_uri": "https://localhost:8080/",
     "height": 80
    },
    "colab_type": "code",
    "id": "tJ5-WBI1LstE",
    "outputId": "d58cae27-508d-4d1b-93d8-129c2bf6cdb8"
   },
   "outputs": [
    {
     "name": "stderr",
     "output_type": "stream",
     "text": [
      "Using TensorFlow backend.\n"
     ]
    }
   ],
   "source": [
    "# TensorFlow and tf.keras\n",
    "# import tensorflow as tf\n",
    "# session = InteractiveSession(config=config)\n",
    "\n",
    "from keras import backend\n",
    "# from tensorflow import keras\n",
    "from keras.models import Sequential\n",
    "from keras.layers import Input, Activation, Dense, Convolution2D, MaxPooling2D, Dropout, Flatten\n",
    "from keras.optimizers import Adam, SGD\n",
    "from keras.layers import Dropout\n",
    "# Helper libraries\n",
    "import numpy as np\n",
    "import pandas as pd\n",
    "import matplotlib.pyplot as plt\n",
    "\n",
    "import cv2\n",
    "import glob\n",
    "from sklearn.model_selection import train_test_split\n",
    "from sklearn import preprocessing"
   ]
  },
  {
   "cell_type": "code",
   "execution_count": 2,
   "metadata": {
    "colab": {
     "base_uri": "https://localhost:8080/",
     "height": 714
    },
    "colab_type": "code",
    "id": "OVjcWWknLxWN",
    "outputId": "20828d0b-4d0a-4939-cf92-e9a4dd062b9b"
   },
   "outputs": [
    {
     "name": "stdout",
     "output_type": "stream",
     "text": [
      "Model: \"sequential_1\"\n",
      "_________________________________________________________________\n",
      "Layer (type)                 Output Shape              Param #   \n",
      "=================================================================\n",
      "conv2d_1 (Conv2D)            (None, 62, 62, 16)        448       \n",
      "_________________________________________________________________\n",
      "max_pooling2d_1 (MaxPooling2 (None, 31, 31, 16)        0         \n",
      "_________________________________________________________________\n",
      "conv2d_2 (Conv2D)            (None, 29, 29, 64)        9280      \n",
      "_________________________________________________________________\n",
      "max_pooling2d_2 (MaxPooling2 (None, 14, 14, 64)        0         \n",
      "_________________________________________________________________\n",
      "flatten_1 (Flatten)          (None, 12544)             0         \n",
      "_________________________________________________________________\n",
      "dropout_1 (Dropout)          (None, 12544)             0         \n",
      "=================================================================\n",
      "Total params: 9,728\n",
      "Trainable params: 9,728\n",
      "Non-trainable params: 0\n",
      "_________________________________________________________________\n"
     ]
    },
    {
     "name": "stderr",
     "output_type": "stream",
     "text": [
      "C:\\ProgramData\\Anaconda3\\lib\\site-packages\\ipykernel_launcher.py:2: UserWarning: Update your `Conv2D` call to the Keras 2 API: `Conv2D(16, (3, 3), input_shape=(64, 64, 3..., activation=\"relu\")`\n",
      "  \n",
      "C:\\ProgramData\\Anaconda3\\lib\\site-packages\\ipykernel_launcher.py:4: UserWarning: Update your `Conv2D` call to the Keras 2 API: `Conv2D(64, (3, 3), input_shape=(64, 64, 3..., activation=\"relu\")`\n",
      "  after removing the cwd from sys.path.\n"
     ]
    }
   ],
   "source": [
    "model = Sequential()\n",
    "model.add(Convolution2D(16,3,3, input_shape = (64,64,3), activation = \"relu\"))\n",
    "model.add(MaxPooling2D(2,2))\n",
    "model.add(Convolution2D(64,3,3, input_shape = (64,64,3), activation = \"relu\"))\n",
    "model.add(MaxPooling2D(2,2))\n",
    "model.add(Flatten())\n",
    "model.add(Dropout(0.5))\n",
    "model.summary()\n"
   ]
  },
  {
   "cell_type": "code",
   "execution_count": 3,
   "metadata": {
    "colab": {},
    "colab_type": "code",
    "id": "Wzd9jgwzL2B8"
   },
   "outputs": [],
   "source": [
    "model.add(Dense(256, activation=\"relu\"))\n",
    "model.add(Dense(4, activation=\"softmax\"))"
   ]
  },
  {
   "cell_type": "code",
   "execution_count": 4,
   "metadata": {
    "colab": {
     "base_uri": "https://localhost:8080/",
     "height": 85
    },
    "colab_type": "code",
    "id": "1EvoOU9BMDyV",
    "outputId": "9af8fa2e-87b3-4175-e0b1-0f243d1227de"
   },
   "outputs": [],
   "source": [
    "# Compiling the CNN\n",
    "model.compile(optimizer = 'adam', loss = 'categorical_crossentropy', metrics = ['accuracy'])\n"
   ]
  },
  {
   "cell_type": "code",
   "execution_count": 5,
   "metadata": {
    "colab": {
     "base_uri": "https://localhost:8080/",
     "height": 51
    },
    "colab_type": "code",
    "id": "QyiuYYiaL_Sz",
    "outputId": "a8efb8af-67f4-457c-d030-7aa9445d5413"
   },
   "outputs": [
    {
     "name": "stdout",
     "output_type": "stream",
     "text": [
      "Found 170 images belonging to 4 classes.\n",
      "Found 167 images belonging to 4 classes.\n"
     ]
    }
   ],
   "source": [
    "from keras.preprocessing.image import ImageDataGenerator\n",
    "\n",
    "train_datagen = ImageDataGenerator(rescale = 1./255,\n",
    "                                   shear_range = 0.2,\n",
    "                                   zoom_range = 0.2,\n",
    "                                   horizontal_flip = True)\n",
    "\n",
    "test_datagen = ImageDataGenerator(rescale = 1./255)\n",
    "\n",
    "training_set = train_datagen.flow_from_directory('stanford-car-dataset-by-classes-folder/car_data/car_data/train',\n",
    "                                                 target_size = (64, 64),\n",
    "                                                 color_mode=\"rgb\",\n",
    "                                                 shuffle=False,\n",
    "                                                 batch_size = 20,\n",
    "                                                 class_mode = 'categorical')\n",
    "\n",
    "test_set = test_datagen.flow_from_directory('stanford-car-dataset-by-classes-folder/car_data/car_data/test',\n",
    "                                            target_size = (64, 64),\n",
    "                                            color_mode=\"rgb\",\n",
    "                                            shuffle=False,\n",
    "                                            batch_size = 20,\n",
    "                                            class_mode = 'categorical')\n"
   ]
  },
  {
   "cell_type": "code",
   "execution_count": 6,
   "metadata": {
    "colab": {},
    "colab_type": "code",
    "id": "vUTg9vaKMHYv"
   },
   "outputs": [],
   "source": [
    "from IPython.display import display\n",
    "from PIL import Image\n",
    "import time"
   ]
  },
  {
   "cell_type": "code",
   "execution_count": 7,
   "metadata": {
    "colab": {
     "base_uri": "https://localhost:8080/",
     "height": 751
    },
    "colab_type": "code",
    "id": "ukjJkfE_MLcQ",
    "outputId": "1aded1d1-d60f-48ad-a1a5-079854b3a96f"
   },
   "outputs": [
    {
     "name": "stdout",
     "output_type": "stream",
     "text": [
      "Epoch 1/30\n",
      "25/25 [==============================] - 7s 290ms/step - loss: 1.8581 - accuracy: 0.1915 - val_loss: 1.3345 - val_accuracy: 0.3422\n",
      "Epoch 2/30\n",
      "25/25 [==============================] - 7s 284ms/step - loss: 1.3787 - accuracy: 0.3417 - val_loss: 1.2804 - val_accuracy: 0.4118\n",
      "Epoch 3/30\n",
      "25/25 [==============================] - 7s 294ms/step - loss: 1.3352 - accuracy: 0.3674 - val_loss: 1.3867 - val_accuracy: 0.2834\n",
      "Epoch 4/30\n",
      "25/25 [==============================] - 6s 254ms/step - loss: 1.2733 - accuracy: 0.3833 - val_loss: 1.2774 - val_accuracy: 0.4278\n",
      "Epoch 5/30\n",
      "25/25 [==============================] - 7s 268ms/step - loss: 1.2297 - accuracy: 0.4447 - val_loss: 1.2583 - val_accuracy: 0.4813\n",
      "Epoch 6/30\n",
      "25/25 [==============================] - 7s 270ms/step - loss: 1.0877 - accuracy: 0.4917 - val_loss: 0.9816 - val_accuracy: 0.5401\n",
      "Epoch 7/30\n",
      "25/25 [==============================] - 7s 261ms/step - loss: 0.9779 - accuracy: 0.5809 - val_loss: 1.0651 - val_accuracy: 0.5455\n",
      "Epoch 8/30\n",
      "25/25 [==============================] - 6s 250ms/step - loss: 0.7682 - accuracy: 0.7021 - val_loss: 0.5067 - val_accuracy: 0.6203\n",
      "Epoch 9/30\n",
      "25/25 [==============================] - 6s 234ms/step - loss: 0.7826 - accuracy: 0.6851 - val_loss: 0.6907 - val_accuracy: 0.6264\n",
      "Epoch 10/30\n",
      "25/25 [==============================] - 5s 208ms/step - loss: 0.6267 - accuracy: 0.7830 - val_loss: 1.3545 - val_accuracy: 0.5829\n",
      "Epoch 11/30\n",
      "25/25 [==============================] - 7s 279ms/step - loss: 0.5420 - accuracy: 0.8021 - val_loss: 1.5330 - val_accuracy: 0.5561\n",
      "Epoch 12/30\n",
      "25/25 [==============================] - 7s 267ms/step - loss: 0.4393 - accuracy: 0.8255 - val_loss: 1.1405 - val_accuracy: 0.6417\n",
      "Epoch 13/30\n",
      "25/25 [==============================] - 7s 278ms/step - loss: 0.4427 - accuracy: 0.8319 - val_loss: 1.7943 - val_accuracy: 0.5775\n",
      "Epoch 14/30\n",
      "25/25 [==============================] - 6s 255ms/step - loss: 0.3308 - accuracy: 0.8750 - val_loss: 0.7644 - val_accuracy: 0.6096\n",
      "Epoch 15/30\n",
      "25/25 [==============================] - 7s 272ms/step - loss: 0.3861 - accuracy: 0.8500 - val_loss: 1.8759 - val_accuracy: 0.6043\n",
      "Epoch 16/30\n",
      "25/25 [==============================] - 6s 253ms/step - loss: 0.2953 - accuracy: 0.9083 - val_loss: 1.7368 - val_accuracy: 0.6043\n",
      "Epoch 17/30\n",
      "25/25 [==============================] - 6s 249ms/step - loss: 0.2084 - accuracy: 0.9298 - val_loss: 0.6314 - val_accuracy: 0.6471\n",
      "Epoch 18/30\n",
      "25/25 [==============================] - 6s 238ms/step - loss: 0.1391 - accuracy: 0.9574 - val_loss: 0.5471 - val_accuracy: 0.6379\n",
      "Epoch 19/30\n",
      "25/25 [==============================] - 5s 209ms/step - loss: 0.1245 - accuracy: 0.9617 - val_loss: 1.9308 - val_accuracy: 0.6096\n",
      "Epoch 20/30\n",
      "25/25 [==============================] - 6s 248ms/step - loss: 0.1469 - accuracy: 0.9500 - val_loss: 1.0425 - val_accuracy: 0.6417\n",
      "Epoch 21/30\n",
      "25/25 [==============================] - 6s 247ms/step - loss: 0.1288 - accuracy: 0.9609 - val_loss: 0.9743 - val_accuracy: 0.6364\n",
      "Epoch 22/30\n",
      "25/25 [==============================] - 6s 249ms/step - loss: 0.0732 - accuracy: 0.9792 - val_loss: 2.7585 - val_accuracy: 0.6471\n",
      "Epoch 23/30\n",
      "25/25 [==============================] - 6s 235ms/step - loss: 0.0816 - accuracy: 0.9833 - val_loss: 0.9034 - val_accuracy: 0.6417\n",
      "Epoch 24/30\n",
      "25/25 [==============================] - 7s 267ms/step - loss: 0.0746 - accuracy: 0.9826 - val_loss: 1.5056 - val_accuracy: 0.6096\n",
      "Epoch 25/30\n",
      "25/25 [==============================] - 7s 272ms/step - loss: 0.0510 - accuracy: 0.9917 - val_loss: 1.5729 - val_accuracy: 0.6310\n",
      "Epoch 26/30\n",
      "25/25 [==============================] - 6s 258ms/step - loss: 0.0626 - accuracy: 0.9848 - val_loss: 0.3673 - val_accuracy: 0.6471\n",
      "Epoch 27/30\n",
      "25/25 [==============================] - 6s 241ms/step - loss: 0.0848 - accuracy: 0.9667 - val_loss: 1.0089 - val_accuracy: 0.6437\n",
      "Epoch 28/30\n",
      "25/25 [==============================] - 5s 201ms/step - loss: 0.0670 - accuracy: 0.9851 - val_loss: 1.2624 - val_accuracy: 0.6631\n",
      "Epoch 29/30\n",
      "25/25 [==============================] - 6s 252ms/step - loss: 0.0406 - accuracy: 0.9894 - val_loss: 2.4959 - val_accuracy: 0.6257\n",
      "Epoch 30/30\n",
      "25/25 [==============================] - 6s 245ms/step - loss: 0.0329 - accuracy: 0.9937 - val_loss: 1.8312 - val_accuracy: 0.6417\n"
     ]
    }
   ],
   "source": [
    "hist = model.fit_generator(training_set,\n",
    "                         steps_per_epoch = 25,\n",
    "                         epochs= 30,\n",
    "                         validation_data = test_set,\n",
    "                         validation_steps = 10)"
   ]
  },
  {
   "cell_type": "code",
   "execution_count": 8,
   "metadata": {
    "colab": {},
    "colab_type": "code",
    "id": "APFnOhF_guds"
   },
   "outputs": [
    {
     "data": {
      "text/plain": [
       "0.78934675"
      ]
     },
     "execution_count": 8,
     "metadata": {},
     "output_type": "execute_result"
    }
   ],
   "source": [
    "np.mean(hist.history['accuracy'])"
   ]
  },
  {
   "cell_type": "code",
   "execution_count": 9,
   "metadata": {
    "colab": {},
    "colab_type": "code",
    "id": "n8en9XRjgxNU"
   },
   "outputs": [
    {
     "data": {
      "text/plain": [
       "0.5074823889037569"
      ]
     },
     "execution_count": 9,
     "metadata": {},
     "output_type": "execute_result"
    }
   ],
   "source": [
    "np.mean(hist.history['loss'])"
   ]
  },
  {
   "cell_type": "code",
   "execution_count": 10,
   "metadata": {
    "colab": {},
    "colab_type": "code",
    "id": "In_bonyzgzTK"
   },
   "outputs": [
    {
     "data": {
      "text/plain": [
       "1.2937623272339502"
      ]
     },
     "execution_count": 10,
     "metadata": {},
     "output_type": "execute_result"
    }
   ],
   "source": [
    "np.mean(hist.history['val_loss'])"
   ]
  },
  {
   "cell_type": "code",
   "execution_count": 11,
   "metadata": {
    "colab": {},
    "colab_type": "code",
    "id": "Yv76492_g1ZD"
   },
   "outputs": [
    {
     "data": {
      "text/plain": [
       "0.5792878150939942"
      ]
     },
     "execution_count": 11,
     "metadata": {},
     "output_type": "execute_result"
    }
   ],
   "source": [
    "np.mean(hist.history['val_accuracy'])"
   ]
  },
  {
   "cell_type": "code",
   "execution_count": 12,
   "metadata": {
    "colab": {},
    "colab_type": "code",
    "id": "M-fJ0Nj5g4gg"
   },
   "outputs": [],
   "source": [
    "model.save('stanford-car-dataset-by-classes-folder/model.h5')\n",
    "model.save_weights('stanford-car-dataset-by-classes-folder/weights.h5')"
   ]
  },
  {
   "cell_type": "code",
   "execution_count": 13,
   "metadata": {
    "colab": {},
    "colab_type": "code",
    "id": "UzTLSkh6g-Ak"
   },
   "outputs": [
    {
     "name": "stdout",
     "output_type": "stream",
     "text": [
      "['AM General Hummer SUV 2000', 'Acura Integra Type R 2001', 'Audi 100 Sedan 1994', 'Bentley Arnage Sedan 2009']\n"
     ]
    }
   ],
   "source": [
    "print(list(training_set.class_indices))"
   ]
  },
  {
   "cell_type": "code",
   "execution_count": null,
   "metadata": {
    "colab": {},
    "colab_type": "code",
    "id": "GZswP4USojvE"
   },
   "outputs": [],
   "source": []
  }
 ],
 "metadata": {
  "accelerator": "GPU",
  "colab": {
   "collapsed_sections": [],
   "name": "Copy of Untitled1.ipynb",
   "provenance": []
  },
  "kernelspec": {
   "display_name": "Python 3",
   "language": "python",
   "name": "python3"
  },
  "language_info": {
   "codemirror_mode": {
    "name": "ipython",
    "version": 3
   },
   "file_extension": ".py",
   "mimetype": "text/x-python",
   "name": "python",
   "nbconvert_exporter": "python",
   "pygments_lexer": "ipython3",
   "version": "3.7.4"
  }
 },
 "nbformat": 4,
 "nbformat_minor": 1
}
